{
  "cells": [
    {
      "cell_type": "code",
      "execution_count": 1,
      "metadata": {
        "colab": {
          "base_uri": "https://localhost:8080/"
        },
        "id": "E6idjfGT1_Xk",
        "outputId": "55c91557-e564-4c92-9324-71f52ae11313"
      },
      "outputs": [
        {
          "output_type": "stream",
          "name": "stdout",
          "text": [
            "Collecting pyspark\n",
            "  Downloading pyspark-3.5.0.tar.gz (316.9 MB)\n",
            "\u001b[2K     \u001b[90m━━━━━━━━━━━━━━━━━━━━━━━━━━━━━━━━━━━━━━━━\u001b[0m \u001b[32m316.9/316.9 MB\u001b[0m \u001b[31m4.3 MB/s\u001b[0m eta \u001b[36m0:00:00\u001b[0m\n",
            "\u001b[?25h  Preparing metadata (setup.py) ... \u001b[?25l\u001b[?25hdone\n",
            "Requirement already satisfied: py4j==0.10.9.7 in /usr/local/lib/python3.10/dist-packages (from pyspark) (0.10.9.7)\n",
            "Building wheels for collected packages: pyspark\n",
            "  Building wheel for pyspark (setup.py) ... \u001b[?25l\u001b[?25hdone\n",
            "  Created wheel for pyspark: filename=pyspark-3.5.0-py2.py3-none-any.whl size=317425344 sha256=1222afd67605bf75e7f0b76d578cfcb4f1fe299d7c1917fc72ba9b00d54bdec0\n",
            "  Stored in directory: /root/.cache/pip/wheels/41/4e/10/c2cf2467f71c678cfc8a6b9ac9241e5e44a01940da8fbb17fc\n",
            "Successfully built pyspark\n",
            "Installing collected packages: pyspark\n",
            "Successfully installed pyspark-3.5.0\n"
          ]
        }
      ],
      "source": [
        "!pip install pyspark"
      ]
    },
    {
      "cell_type": "code",
      "execution_count": 2,
      "metadata": {
        "id": "hUF9dZAT4dnz"
      },
      "outputs": [],
      "source": [
        "import numpy as np\n",
        "import pandas as pd\n",
        "import os\n",
        "import pyspark\n",
        "from pyspark.sql import SparkSession\n",
        "from pyspark.sql.types import StructType, StructField, IntegerType, StringType\n",
        "from pyspark.sql.functions import col, sum\n"
      ]
    },
    {
      "cell_type": "code",
      "execution_count": 3,
      "metadata": {
        "id": "K0MHswoKUpLO"
      },
      "outputs": [],
      "source": [
        "spark = SparkSession.builder.appName('AIRLINES ANALYSIS').getOrCreate()"
      ]
    },
    {
      "cell_type": "code",
      "execution_count": 4,
      "metadata": {
        "id": "aArocH-rUzWa"
      },
      "outputs": [],
      "source": [
        "flights_df = spark.read.csv('/content/flights-larger.csv',header=True,inferSchema=True,nullValue='NA')"
      ]
    },
    {
      "cell_type": "code",
      "execution_count": 5,
      "metadata": {
        "id": "bGvoVwb4VACf",
        "colab": {
          "base_uri": "https://localhost:8080/"
        },
        "outputId": "8872e2ac-1159-456a-df65-57a99d939ad0"
      },
      "outputs": [
        {
          "output_type": "stream",
          "name": "stdout",
          "text": [
            "The data contain records. 275000\n",
            "+---+---+---+-------+------+---+----+------+--------+-----+\n",
            "|mon|dom|dow|carrier|flight|org|mile|depart|duration|delay|\n",
            "+---+---+---+-------+------+---+----+------+--------+-----+\n",
            "| 10| 10|  1|     OO|  5836|ORD| 157|  8.18|      51|   27|\n",
            "|  1|  4|  1|     OO|  5866|ORD| 466|  15.5|     102| NULL|\n",
            "| 11| 22|  1|     OO|  6016|ORD| 738|  7.17|     127|  -19|\n",
            "|  2| 14|  5|     B6|   199|JFK|2248| 21.17|     365|   60|\n",
            "|  5| 25|  3|     WN|  1675|SJC| 386| 12.92|      85|   22|\n",
            "|  3| 28|  1|     B6|   377|LGA|1076| 13.33|     182|   70|\n",
            "|  5| 28|  6|     B6|   904|ORD| 740|  9.58|     130|   47|\n",
            "|  1| 19|  2|     UA|   820|SFO| 679| 12.75|     123|  135|\n",
            "|  8|  5|  5|     US|  2175|LGA| 214|  13.0|      71|  -10|\n",
            "|  5| 27|  5|     AA|  1240|ORD|1197| 14.42|     195|  -11|\n",
            "|  8| 20|  6|     B6|   119|JFK|1182| 14.67|     198|   20|\n",
            "|  2|  3|  1|     AA|  1881|JFK|1090| 15.92|     200|   -9|\n",
            "|  8| 26|  5|     B6|    35|JFK|1028| 20.58|     193|  102|\n",
            "|  4|  9|  5|     AA|   336|ORD| 733|  20.5|     125|   32|\n",
            "|  3|  8|  2|     UA|   678|ORD| 733| 10.95|     129|   55|\n",
            "|  8| 10|  3|     OH|  6347|LGA| 292| 11.75|     102|    8|\n",
            "|  8| 14|  0|     UA|   624|ORD| 612| 17.92|     109|   57|\n",
            "|  4|  8|  4|     OH|  5585|JFK| 301| 13.25|      88|   23|\n",
            "|  1| 14|  4|     UA|  1524|SFO| 414| 14.87|      91|   27|\n",
            "|  1|  2|  6|     AA|  1341|ORD|1846|   7.5|     275|   26|\n",
            "+---+---+---+-------+------+---+----+------+--------+-----+\n",
            "only showing top 20 rows\n",
            "\n"
          ]
        }
      ],
      "source": [
        "print(\"The data contain records.\" ,flights_df.count())\n",
        "\n",
        "flights_df.show()"
      ]
    },
    {
      "cell_type": "code",
      "execution_count": 6,
      "metadata": {
        "id": "DWAXqw8_PWfu"
      },
      "outputs": [],
      "source": [
        "# Count the number of null values in each column\n",
        "flights_df = flights_df.replace(\"NA\", None)\n",
        "null_counts = flights_df.select([sum(col(c).isNull().cast(\"int\")).alias(c) for c in flights_df.columns])"
      ]
    },
    {
      "cell_type": "code",
      "execution_count": 7,
      "metadata": {
        "id": "5rXnwLZIPhOU",
        "colab": {
          "base_uri": "https://localhost:8080/"
        },
        "outputId": "02a467df-c52d-4880-ef7f-9b3d03401cde"
      },
      "outputs": [
        {
          "output_type": "stream",
          "name": "stdout",
          "text": [
            "+---+---+---+-------+------+---+----+------+--------+-----+\n",
            "|mon|dom|dow|carrier|flight|org|mile|depart|duration|delay|\n",
            "+---+---+---+-------+------+---+----+------+--------+-----+\n",
            "|  0|  0|  0|      0|     0|  0|   0|     0|       0|16711|\n",
            "+---+---+---+-------+------+---+----+------+--------+-----+\n",
            "\n"
          ]
        }
      ],
      "source": [
        "# Show the counts\n",
        "null_counts.show()"
      ]
    },
    {
      "cell_type": "code",
      "execution_count": 8,
      "metadata": {
        "id": "uulpUa6hVNLj",
        "colab": {
          "base_uri": "https://localhost:8080/"
        },
        "outputId": "9cf2a671-026d-4eb4-cad5-baea4c19dda4"
      },
      "outputs": [
        {
          "output_type": "stream",
          "name": "stdout",
          "text": [
            "[('mon', 'int'), ('dom', 'int'), ('dow', 'int'), ('carrier', 'string'), ('flight', 'int'), ('org', 'string'), ('mile', 'int'), ('depart', 'double'), ('duration', 'int'), ('delay', 'int')]\n",
            "root\n",
            " |-- mon: integer (nullable = true)\n",
            " |-- dom: integer (nullable = true)\n",
            " |-- dow: integer (nullable = true)\n",
            " |-- carrier: string (nullable = true)\n",
            " |-- flight: integer (nullable = true)\n",
            " |-- org: string (nullable = true)\n",
            " |-- mile: integer (nullable = true)\n",
            " |-- depart: double (nullable = true)\n",
            " |-- duration: integer (nullable = true)\n",
            " |-- delay: integer (nullable = true)\n",
            "\n"
          ]
        }
      ],
      "source": [
        "print(flights_df.dtypes)\n",
        "flights_df.printSchema()"
      ]
    },
    {
      "cell_type": "markdown",
      "metadata": {
        "id": "al9VUH-jzgK0"
      },
      "source": [
        "IMPUTING & DROPPING NULL VALUES"
      ]
    },
    {
      "cell_type": "code",
      "execution_count": 9,
      "metadata": {
        "id": "EqzcIr_jOiaQ"
      },
      "outputs": [],
      "source": [
        "from pyspark.sql.functions import mean\n",
        "# Calculate mean values for 'mile' and 'delay' columns\n",
        "mean_mile = flights_df.select(mean(\"mile\")).collect()[0][0]\n",
        "mean_delay = flights_df.select(mean(\"delay\")).collect()[0][0]"
      ]
    },
    {
      "cell_type": "code",
      "execution_count": 10,
      "metadata": {
        "id": "CqyjvMTEOif3"
      },
      "outputs": [],
      "source": [
        "# Fill null values in 'mile' and 'delay' columns with their means\n",
        "flights_df = flights_df.na.fill(mean_mile, subset=[\"mile\"])\n",
        "flights_df = flights_df.na.fill(mean_delay, subset=[\"delay\"])"
      ]
    },
    {
      "cell_type": "code",
      "execution_count": 11,
      "metadata": {
        "colab": {
          "base_uri": "https://localhost:8080/"
        },
        "id": "hhYeX0_dRrEq",
        "outputId": "6044c9c0-bb75-48a4-e72e-23028416e49c"
      },
      "outputs": [
        {
          "output_type": "stream",
          "name": "stdout",
          "text": [
            "275000\n"
          ]
        }
      ],
      "source": [
        "flights_df = flights_df.dropna()\n",
        "print(flights_df.count())"
      ]
    },
    {
      "cell_type": "code",
      "execution_count": 12,
      "metadata": {
        "colab": {
          "base_uri": "https://localhost:8080/"
        },
        "id": "Q_w2D7SMVY1g",
        "outputId": "e829c6ac-2938-445d-e9c3-a0a2a56462b7"
      },
      "outputs": [
        {
          "output_type": "stream",
          "name": "stdout",
          "text": [
            "+---+---+---+-------+------+---+----+------+--------+-----+------+-----+\n",
            "|mon|dom|dow|carrier|flight|org|mile|depart|duration|delay|    km|label|\n",
            "+---+---+---+-------+------+---+----+------+--------+-----+------+-----+\n",
            "| 10| 10|  1|     OO|  5836|ORD| 157|  8.18|      51|   27| 253.0|    1|\n",
            "|  1|  4|  1|     OO|  5866|ORD| 466|  15.5|     102|   28| 750.0|    1|\n",
            "| 11| 22|  1|     OO|  6016|ORD| 738|  7.17|     127|  -19|1188.0|    0|\n",
            "|  2| 14|  5|     B6|   199|JFK|2248| 21.17|     365|   60|3618.0|    1|\n",
            "|  5| 25|  3|     WN|  1675|SJC| 386| 12.92|      85|   22| 621.0|    1|\n",
            "|  3| 28|  1|     B6|   377|LGA|1076| 13.33|     182|   70|1732.0|    1|\n",
            "|  5| 28|  6|     B6|   904|ORD| 740|  9.58|     130|   47|1191.0|    1|\n",
            "|  1| 19|  2|     UA|   820|SFO| 679| 12.75|     123|  135|1093.0|    1|\n",
            "|  8|  5|  5|     US|  2175|LGA| 214|  13.0|      71|  -10| 344.0|    0|\n",
            "|  5| 27|  5|     AA|  1240|ORD|1197| 14.42|     195|  -11|1926.0|    0|\n",
            "|  8| 20|  6|     B6|   119|JFK|1182| 14.67|     198|   20|1902.0|    1|\n",
            "|  2|  3|  1|     AA|  1881|JFK|1090| 15.92|     200|   -9|1754.0|    0|\n",
            "|  8| 26|  5|     B6|    35|JFK|1028| 20.58|     193|  102|1654.0|    1|\n",
            "|  4|  9|  5|     AA|   336|ORD| 733|  20.5|     125|   32|1180.0|    1|\n",
            "|  3|  8|  2|     UA|   678|ORD| 733| 10.95|     129|   55|1180.0|    1|\n",
            "|  8| 10|  3|     OH|  6347|LGA| 292| 11.75|     102|    8| 470.0|    0|\n",
            "|  8| 14|  0|     UA|   624|ORD| 612| 17.92|     109|   57| 985.0|    1|\n",
            "|  4|  8|  4|     OH|  5585|JFK| 301| 13.25|      88|   23| 484.0|    1|\n",
            "|  1| 14|  4|     UA|  1524|SFO| 414| 14.87|      91|   27| 666.0|    1|\n",
            "|  1|  2|  6|     AA|  1341|ORD|1846|   7.5|     275|   26|2971.0|    1|\n",
            "+---+---+---+-------+------+---+----+------+--------+-----+------+-----+\n",
            "only showing top 20 rows\n",
            "\n"
          ]
        }
      ],
      "source": [
        "from pyspark.sql.functions import round, when, col\n",
        "\n",
        "# Create a new column 'km' for distance in kilometers\n",
        "flights_km = flights_df.withColumn('km', round(flights_df['mile'] * 1.60934, 0))\n",
        "\n",
        "flights_km = flights_km.withColumn('label', (flights_km['delay'] >= 15).cast('integer'))\n",
        "\n",
        "flights_km.show()"
      ]
    },
    {
      "cell_type": "code",
      "execution_count": 13,
      "metadata": {
        "colab": {
          "base_uri": "https://localhost:8080/"
        },
        "id": "0-QKnJPWeIHN",
        "outputId": "62b051bb-d787-48be-82d4-21b2d1e14bcc"
      },
      "outputs": [
        {
          "output_type": "stream",
          "name": "stdout",
          "text": [
            "+-----+------+\n",
            "|label| count|\n",
            "+-----+------+\n",
            "|    1|147299|\n",
            "|    0|127701|\n",
            "+-----+------+\n",
            "\n"
          ]
        }
      ],
      "source": [
        "# Group the data by the 'label' column and count the number of instances for each class\n",
        "class_counts = flights_km.groupBy(\"label\").count()\n",
        "\n",
        "# Show the class counts\n",
        "class_counts.show()\n"
      ]
    },
    {
      "cell_type": "markdown",
      "metadata": {
        "id": "USD6pj2ShGUM"
      },
      "source": [
        "PREPROCESSING\n",
        "\n",
        "2.STRING INDEXER"
      ]
    },
    {
      "cell_type": "code",
      "execution_count": 14,
      "metadata": {
        "id": "vROWFSmQWIM5"
      },
      "outputs": [],
      "source": [
        "from pyspark.ml.feature import StringIndexer\n",
        "# Create an indexer, which identifies categories and then creates a new column with numeric index values\n",
        "carrier_indexer = StringIndexer(inputCol='carrier', outputCol='carrier_idx')\n",
        "\n",
        "# Repeat the process for org column\n",
        "org_indexer = StringIndexer(inputCol='org', outputCol='org_idx')\n"
      ]
    },
    {
      "cell_type": "markdown",
      "metadata": {
        "id": "Bt7BJf0khXZe"
      },
      "source": [
        "PREPROCESSING\n",
        "\n",
        "2.VECTOR ASSEMBLER"
      ]
    },
    {
      "cell_type": "code",
      "execution_count": 15,
      "metadata": {
        "id": "ylF6UK_QWVQo"
      },
      "outputs": [],
      "source": [
        "from pyspark.ml.feature import VectorAssembler\n",
        "# Create an assembler object\n",
        "assembler = VectorAssembler(inputCols=['mon', 'dom', 'dow',\n",
        "'carrier_idx', 'org_idx', 'km', 'depart', 'duration'], outputCol='features')\n"
      ]
    },
    {
      "cell_type": "code",
      "execution_count": 16,
      "metadata": {
        "id": "WkdVlV9BodYJ"
      },
      "outputs": [],
      "source": [
        "flights_train, flights_test = flights_km.randomSplit([0.8, 0.2], seed=42)"
      ]
    },
    {
      "cell_type": "markdown",
      "metadata": {
        "id": "lhgXztjJhwLy"
      },
      "source": [
        "DECISION TREE CLASSIFIER"
      ]
    },
    {
      "cell_type": "code",
      "execution_count": 17,
      "metadata": {
        "id": "ANVK9Bg0odhz"
      },
      "outputs": [],
      "source": [
        "from pyspark.ml.classification import DecisionTreeClassifier\n"
      ]
    },
    {
      "cell_type": "code",
      "execution_count": 18,
      "metadata": {
        "id": "9cMMrCUppiRy"
      },
      "outputs": [],
      "source": [
        "from pyspark.ml import Pipeline\n",
        "# Create a Decision Tree classifier\n",
        "dt = DecisionTreeClassifier(labelCol='label', featuresCol='features')\n",
        "# stages =[,assembler,dt]\n",
        "\n",
        "stages = [carrier_indexer, org_indexer, assembler, dt]\n",
        "\n",
        "# Create the pipeline\n",
        "pipeline = Pipeline(stages=stages)\n",
        "\n",
        "# Fit and evaluate the pipeline\n",
        "pipeline_model = pipeline.fit(flights_train)\n",
        "predictions = pipeline_model.transform(flights_test)\n",
        "\n"
      ]
    },
    {
      "cell_type": "code",
      "execution_count": 19,
      "metadata": {
        "colab": {
          "base_uri": "https://localhost:8080/"
        },
        "id": "96tO3OA0m2xs",
        "outputId": "bd2337bd-f2bb-471b-8091-b4e4a634274f"
      },
      "outputs": [
        {
          "output_type": "stream",
          "name": "stdout",
          "text": [
            "Accuracy: 0.6419900930814871\n"
          ]
        }
      ],
      "source": [
        "from pyspark.ml.evaluation import MulticlassClassificationEvaluator\n",
        "evaluator = MulticlassClassificationEvaluator(labelCol='label', predictionCol='prediction', metricName='accuracy')\n",
        "\n",
        "# Calculate the accuracy\n",
        "dt_accuracy = evaluator.evaluate(predictions)\n",
        "\n",
        "print(f\"Accuracy: {dt_accuracy}\")\n"
      ]
    },
    {
      "cell_type": "markdown",
      "metadata": {
        "id": "lZyLOJOzpts6"
      },
      "source": [
        "LOGISTIC REGRESSION\n"
      ]
    },
    {
      "cell_type": "code",
      "execution_count": 20,
      "metadata": {
        "colab": {
          "base_uri": "https://localhost:8080/"
        },
        "id": "Av1-HZuJoeuJ",
        "outputId": "18f7131f-54f7-4f38-e09d-9edfa4d7a766"
      },
      "outputs": [
        {
          "output_type": "stream",
          "name": "stdout",
          "text": [
            "Accuracy for Logistic Regression: 0.6137209006949359\n"
          ]
        }
      ],
      "source": [
        "from pyspark.ml.classification import LogisticRegression\n",
        "\n",
        "# Create a Logistic Regression classifier\n",
        "logistic_regression = LogisticRegression(labelCol='label', featuresCol='features')\n",
        "\n",
        "# Define the stages for the pipeline\n",
        "stages = [carrier_indexer, org_indexer, assembler, logistic_regression]\n",
        "\n",
        "# Create the pipeline\n",
        "pipeline = Pipeline(stages=stages)\n",
        "\n",
        "# Fit and evaluate the pipeline\n",
        "pipeline_model = pipeline.fit(flights_train)\n",
        "predictions = pipeline_model.transform(flights_test)\n",
        "\n",
        "# Create the evaluator\n",
        "evaluator = MulticlassClassificationEvaluator(labelCol='label', predictionCol='prediction', metricName='accuracy')\n",
        "\n",
        "# Calculate the accuracy\n",
        "lr_accuracy = evaluator.evaluate(predictions)\n",
        "\n",
        "print(f\"Accuracy for Logistic Regression: {lr_accuracy}\")\n"
      ]
    },
    {
      "cell_type": "markdown",
      "metadata": {
        "id": "6a293HiEosrp"
      },
      "source": [
        "RANDOM FOREST ALGORITHM"
      ]
    },
    {
      "cell_type": "code",
      "execution_count": 21,
      "metadata": {
        "colab": {
          "base_uri": "https://localhost:8080/"
        },
        "id": "zvQczCuKp5bC",
        "outputId": "29d9f236-3dd0-4cce-9066-7f3c4f0b28af"
      },
      "outputs": [
        {
          "output_type": "stream",
          "name": "stdout",
          "text": [
            "Accuracy for Random Forest: 0.6379257162556928\n"
          ]
        }
      ],
      "source": [
        "from decimal import ROUND_HALF_EVEN\n",
        "from pyspark.ml.classification import RandomForestClassifier\n",
        "\n",
        "# Create a Random Forest classifier\n",
        "random_forest = RandomForestClassifier(labelCol='label', featuresCol='features')\n",
        "\n",
        "# Define the stages for the pipeline\n",
        "stages = [carrier_indexer, org_indexer, assembler, random_forest]\n",
        "\n",
        "# Create the pipeline\n",
        "pipeline = Pipeline(stages=stages)\n",
        "\n",
        "# Fit and evaluate the pipeline\n",
        "pipeline_model = pipeline.fit(flights_train)\n",
        "predictions = pipeline_model.transform(flights_test)\n",
        "\n",
        "# Create the evaluator\n",
        "evaluator = MulticlassClassificationEvaluator(labelCol='label', predictionCol='prediction', metricName='accuracy')\n",
        "\n",
        "# Calculate the accuracy\n",
        "rf_accuracy = evaluator.evaluate(predictions)\n",
        "\n",
        "print(f\"Accuracy for Random Forest: {rf_accuracy}\")\n"
      ]
    },
    {
      "cell_type": "markdown",
      "metadata": {
        "id": "2JyZRgfTqU1G"
      },
      "source": [
        "NAIVE BAYES ALGORITHM"
      ]
    },
    {
      "cell_type": "code",
      "execution_count": 22,
      "metadata": {
        "colab": {
          "base_uri": "https://localhost:8080/"
        },
        "id": "_iqkMlqSpEDU",
        "outputId": "92ca7398-1ca1-4948-c909-35c9a92b2588"
      },
      "outputs": [
        {
          "output_type": "stream",
          "name": "stdout",
          "text": [
            "Accuracy for Random Forest: 0.5593417161105365\n"
          ]
        }
      ],
      "source": [
        "from pyspark.ml.classification import NaiveBayes\n",
        "\n",
        "# Create a Naive Bayes classifier\n",
        "nb = NaiveBayes(labelCol='label', featuresCol='features')\n",
        "\n",
        "# Define the pipeline stages\n",
        "stages = [carrier_indexer,org_indexer,assembler, nb]\n",
        "\n",
        "# Create the pipeline\n",
        "pipeline = Pipeline(stages=stages)\n",
        "\n",
        "# Fit and evaluate the pipeline\n",
        "pipeline_model = pipeline.fit(flights_train)\n",
        "predictions = pipeline_model.transform(flights_test)\n",
        "# Create the evaluator\n",
        "evaluator = MulticlassClassificationEvaluator(labelCol='label', predictionCol='prediction', metricName='accuracy')\n",
        "\n",
        "# Calculate the accuracy\n",
        "nb_accuracy = evaluator.evaluate(predictions)\n",
        "\n",
        "print(f\"Accuracy for Random Forest: {nb_accuracy}\")\n"
      ]
    },
    {
      "cell_type": "markdown",
      "metadata": {
        "id": "4abY_-FCsf4x"
      },
      "source": [
        "GBT CLASSIFIER"
      ]
    },
    {
      "cell_type": "code",
      "execution_count": 23,
      "metadata": {
        "colab": {
          "base_uri": "https://localhost:8080/"
        },
        "id": "CnmhI2ShsfHW",
        "outputId": "2c58e95f-eea4-4bf2-da5d-24721bceb2cc"
      },
      "outputs": [
        {
          "output_type": "stream",
          "name": "stdout",
          "text": [
            "Accuracy for Random Forest: 0.5593417161105365\n"
          ]
        }
      ],
      "source": [
        "from pyspark.ml.classification import GBTClassifier\n",
        "from pyspark.ml import Pipeline\n",
        "\n",
        "# Create a Gradient Boosting Classifier\n",
        "gbt = GBTClassifier(labelCol='label', featuresCol='features')\n",
        "\n",
        "# Define the pipeline stages\n",
        "stages = [carrier_indexer,org_indexer,assembler, nb]\n",
        "\n",
        "# Create the pipeline\n",
        "pipeline = Pipeline(stages=stages)\n",
        "\n",
        "# Fit and evaluate the pipeline\n",
        "pipeline_model = pipeline.fit(flights_train)\n",
        "predictions = pipeline_model.transform(flights_test)\n",
        "# Create the evaluator\n",
        "evaluator = MulticlassClassificationEvaluator(labelCol='label', predictionCol='prediction', metricName='accuracy')\n",
        "\n",
        "# Calculate the accuracy\n",
        "gbt_accuracy = evaluator.evaluate(predictions)\n",
        "\n",
        "print(f\"Accuracy for Random Forest: {gbt_accuracy}\")"
      ]
    },
    {
      "cell_type": "code",
      "execution_count": 24,
      "metadata": {
        "id": "8vZBtN2GstEB",
        "colab": {
          "base_uri": "https://localhost:8080/",
          "height": 529
        },
        "outputId": "8e3b6425-94df-4dbe-8022-ad58afdebba7"
      },
      "outputs": [
        {
          "output_type": "display_data",
          "data": {
            "text/plain": [
              "<Figure size 1000x600 with 1 Axes>"
            ],
            "image/png": "[encoded data removed]"
          },
          "metadata": {}
        }
      ],
      "source": [
        "import matplotlib.pyplot as plt\n",
        "\n",
        "# List of algorithm names and their corresponding accuracy values\n",
        "algorithm_names = [\"Decision Tree\", \"Logistic Regression\", \"Random Forest\", \"Naive Bayes\", \"Gradient Boosting\",]\n",
        "accuracy_values = [dt_accuracy,lr_accuracy,rf_accuracy,nb_accuracy,gbt_accuracy]  # Replace with actual accuracy values\n",
        "\n",
        "# Create a bar chart\n",
        "plt.figure(figsize=(10, 6))\n",
        "plt.bar(algorithm_names, accuracy_values, color='skyblue')\n",
        "plt.xlabel('Algorithms')\n",
        "plt.ylabel('Accuracy')\n",
        "plt.title('Comparison of Algorithm Accuracy')\n",
        "plt.ylim(0.0, 1.0)  # Set the y-axis range (0 to 1)\n",
        "plt.xticks(rotation=45)  # Rotate x-axis labels for better readability\n",
        "\n",
        "# Display the chart\n",
        "plt.tight_layout()\n",
        "plt.show()\n"
      ]
    },
    {
      "cell_type": "code",
      "execution_count": null,
      "metadata": {
        "id": "McWaRFVt0hRI"
      },
      "outputs": [],
      "source": [
        "from pyspark.ml.tuning import ParamGridBuilder, CrossValidator\n",
        "\n",
        "# Define the parameter grid to search\n",
        "paramGrid = ParamGridBuilder() \\\n",
        "    .addGrid(dt.maxDepth, [5, 10, 15]) \\\n",
        "    .addGrid(dt.maxBins, [16, 32, 64]) \\\n",
        "    .build()\n",
        "\n",
        "# Set up a cross-validator\n",
        "crossval = CrossValidator(\n",
        "    estimator=pipeline,\n",
        "    estimatorParamMaps=paramGrid,\n",
        "    evaluator=evaluator,  # Use the evaluator appropriate for your problem\n",
        "    numFolds=5  # Number of cross-validation folds\n",
        ")\n",
        "\n",
        "# Perform the cross-validation to find the best model\n",
        "cv_model = crossval.fit(flights_train)\n"
      ]
    },
    {
      "cell_type": "code",
      "execution_count": null,
      "metadata": {
        "id": "DZYWkmA9zDSg"
      },
      "outputs": [],
      "source": [
        "# Use the best model from cross-validation\n",
        "best_model = cv_model.bestModel\n",
        "\n",
        "# Make predictions on the test data\n",
        "test_predictions = best_model.transform(flights_test)\n",
        "\n",
        "# Evaluate the model using the appropriate evaluator\n",
        "evaluation_result = evaluator.evaluate(test_predictions, {evaluator.metricName: \"accuracy\"})\n",
        "print(f\"Accuracy: {evaluation_result}\")\n",
        "\n",
        "# You can also extract the best hyperparameters like maxDepth and maxBins\n",
        "#best_max_depth = best_model.stages[-1].getOrDefault(\"maxDepth\")\n",
        "#best_max_bins = best_model.stages[-1].getOrDefault(\"maxBins\")\n",
        "\n",
        "# print(f\"Best Max Depth: {best_max_depth}\")\n",
        "# print(f\"Best Max Bins: {best_max_bins}\")"
      ]
    }
  ],
  "metadata": {
    "colab": {
      "provenance": []
    },
    "kernelspec": {
      "display_name": "Python 3",
      "name": "python3"
    },
    "language_info": {
      "name": "python"
    }
  },
  "nbformat": 4,
  "nbformat_minor": 0
}